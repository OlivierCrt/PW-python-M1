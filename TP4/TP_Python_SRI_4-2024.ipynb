{
 "cells": [
  {
   "cell_type": "markdown",
   "metadata": {},
   "source": [
    "## TP4: Analyse de données (suite): clustering"
   ]
  },
  {
   "cell_type": "markdown",
   "metadata": {},
   "source": [
    "Dans ce TP l'objectif est d'implémenter un type d'analyse de données de façon non supervisée en faisant du \"clustering\", \n",
    "c'est à dire en cherchant des groupes de données qui se ressemblent, sans information préalable sur leurs catégories\n",
    "\n",
    "Par exemple si on observe ces points en deux dimensions, on peut distinguer trois groupes relativement séparés\n",
    "<img src=\"TP/cluster_init3.png\">"
   ]
  },
  {
   "cell_type": "markdown",
   "metadata": {},
   "source": [
    "Un algorithme de clustering est un algorithme qui est censé repérer ces groupes, éventuellement en supposant le nombre de groupes à chercher. "
   ]
  },
  {
   "cell_type": "code",
   "execution_count": 1,
   "metadata": {},
   "outputs": [],
   "source": [
    "%matplotlib inline\n",
    "from IPython.display import Image"
   ]
  },
  {
   "cell_type": "markdown",
   "metadata": {},
   "source": [
    "On utilisera le même module graphique qu'au TP3"
   ]
  },
  {
   "cell_type": "code",
   "execution_count": 2,
   "metadata": {},
   "outputs": [],
   "source": [
    "import matplotlib.pyplot as plt"
   ]
  },
  {
   "cell_type": "markdown",
   "metadata": {},
   "source": [
    "### Première partie: la méthodes des k moyennes\n",
    "\n",
    "Vous allez implémenter la méthodes des k moyennes sur des données artificielles, en utilisant la fonction qui génère des nuages de point du TP3\n",
    "\n",
    "Cet algorithme suit le principe suivant, en présupposant qu'on fixe le nombre de groupes $k$\n",
    "\n",
    "    - tirer au hasard k points dans l'espace voulu: ce seront les centres des clusters\n",
    "    - répéter jusqu'à convergence \n",
    "        - assigner chaque point au cluster dont le centre est le plus proche\n",
    "        - recalculer les centres des clusters: le nouveau centre est le barycentre des points du cluster (moyenne)\n",
    "        \n",
    "Un critère de convergence classique est de voir que la différence des distances des centres des clusters devient négligeable. On peut aussi fixer un nombre maximal d'itérations, mais ce n'est pas du tout optimal. \n",
    "\n",
    "Indice: Vous pouvez utiliser numpy pour simplifier certains calculs. \n",
    "\n",
    "\n"
   ]
  },
  {
   "cell_type": "markdown",
   "metadata": {},
   "source": [
    "Voici ce que donnerait un exemple d'éxécution sur les données ci-dessus, en choississant 2, 3 ou 4 clusters. Ici les couleurs sont assignées à chaque cluster repéré, pour faciliter la visualisation.  \n",
    "\n",
    "<table>\n",
    "    <tr>\n",
    "    <td> <img src=\"TP/kmeans_3_2.png\" width=\"400\"></td>\n",
    "    <td> <img src=\"TP/kmeans_3_3.png\" width=\"400\"></td>\n",
    "      <td>   <img src=\"TP/kmeans_3_4.png\" width=\"400\"></td>\n",
    "    </tr>\n",
    "</table>\n",
    "\n",
    "La croix indique le centre calculé pour chaque cluster. \n",
    "\n",
    "<strong> Attention </strong>: on génère des blobs pour avoir un exemple, mais évidemment l'algorithme de k-means n'a aucune information sur l'origine des données: il ne voit que l'ensemble total de tous les points. Vous pouvez générer n'importe quel nombre n de blobs, et tester les k-means avec k=ce que vous voulez (2, 3, 15, ...). "
   ]
  },
  {
   "cell_type": "markdown",
   "metadata": {},
   "source": [
    "Voici une version possible avec numpy pour la fonction blob du TP3, qui renvoie une matrice numpy:\n",
    "    "
   ]
  },
  {
   "cell_type": "code",
   "execution_count": 3,
   "metadata": {
    "scrolled": true
   },
   "outputs": [
    {
     "name": "stdout",
     "output_type": "stream",
     "text": [
      "(30, 2)\n",
      "[[0.32631763 0.86359249]\n",
      " [0.69466222 0.88559058]\n",
      " [0.7327989  0.88645659]\n",
      " [0.50711593 0.81286654]\n",
      " [0.35586252 0.90068864]]\n"
     ]
    }
   ],
   "source": [
    "import numpy as np\n",
    "\n",
    "def blob(x0,y0,n,scale=1.):\n",
    "    \"\"\"\n",
    "    nuage de points autour de (x,y)\n",
    "    \"\"\"   \n",
    "    return np.random.normal((x0,y0),scale,size=(n,2))\n",
    "\n",
    "\n",
    "g1 = blob(0.5,0.8,30,scale=0.1)\n",
    "print(g1.shape)\n",
    "print(g1[:5,])"
   ]
  },
  {
   "cell_type": "code",
   "execution_count": 4,
   "metadata": {},
   "outputs": [
    {
     "data": {
      "text/plain": [
       "[<matplotlib.lines.Line2D at 0x2312cb7c7d0>]"
      ]
     },
     "execution_count": 4,
     "metadata": {},
     "output_type": "execute_result"
    },
    {
     "data": {
      "image/png": "[encoded data removed]",
      "text/plain": [
       "<Figure size 640x480 with 1 Axes>"
      ]
     },
     "metadata": {},
     "output_type": "display_data"
    }
   ],
   "source": [
    "# et la visualisation qui irait avec\n",
    "plt.xlim((0,1))\n",
    "plt.ylim(0,1)\n",
    "plt.plot(g1[:,0],g1[:,1],\"ro\")"
   ]
  },
  {
   "cell_type": "markdown",
   "metadata": {},
   "source": [
    "### Deuxième partie: de \"vraies\" données\n",
    "\n",
    "Vous pouvez maintenant utiliser le fichier \"iris.txt\", du TP 3. \n",
    "Rappel: Il contient des caractéristiques de différentes fleurs de l'espèce iris, réparties en trois sous-espèces \"setosa\", \"virginica\", \"versicolor\". \n",
    "\n",
    "Vous pouvez utiliser numpy pour lire directement les données: "
   ]
  },
  {
   "cell_type": "code",
   "execution_count": 7,
   "metadata": {},
   "outputs": [
    {
     "data": {
      "text/plain": [
       "'c:\\\\Users\\\\ocram\\\\Python\\\\Tp python 2a\\\\TP4'"
      ]
     },
     "execution_count": 7,
     "metadata": {},
     "output_type": "execute_result"
    }
   ],
   "source": [
    "%pwd"
   ]
  },
  {
   "cell_type": "code",
   "execution_count": 19,
   "metadata": {},
   "outputs": [
    {
     "data": {
      "image/png": "[encoded data removed]",
      "text/plain": [
       "<Figure size 640x480 with 1 Axes>"
      ]
     },
     "metadata": {},
     "output_type": "display_data"
    }
   ],
   "source": [
    "import numpy as np\n",
    "import random\n",
    "data = np.genfromtxt('iris.txt', dtype=None,delimiter=',',names=True,encoding=\"utf8\")\n",
    "\n",
    "def jumbo(data):\n",
    "    flower_l = []\n",
    "    for i in data :\n",
    "        flower_l.append((i[0],i[1]))\n",
    "\n",
    "    return flower_l\n",
    "        \n",
    "\n",
    "\n",
    "def plot_tuples(tuples):\n",
    "    x_coords, y_coords = zip(*tuples)  \n",
    "    plt.scatter(x_coords, y_coords)    \n",
    "    plt.xlabel('X')               \n",
    "    plt.ylabel('Y')               \n",
    "    plt.title('Plot')        \n",
    "    plt.grid(True)                     \n",
    "    plt.show()                         \n",
    "\n",
    "\n",
    "\n",
    "\n",
    "\n",
    "def cluster_1center(center,cloud,range):\n",
    "    \"\"\"return the list of tuple of the cluster\"\"\"\n",
    "    res =[]\n",
    "    for point in cloud :\n",
    "        norm = np.sqrt((point[0] - center[0]) ** 2 + (point[1] - center[1]) ** 2)\n",
    "        if norm <= range :\n",
    "            res.append(point)\n",
    "\n",
    "    return res\n",
    "\n",
    "cloud = jumbo(data)\n",
    "clust =cluster_1center(random.choice(cloud), cloud, 0.5)\n",
    "plot_tuples(clust)\n",
    "\n"
   ]
  },
  {
   "cell_type": "markdown",
   "metadata": {
    "collapsed": true,
    "jupyter": {
     "outputs_hidden": true
    }
   },
   "source": [
    "En supposant qu'on ne connait pas la classe de chaque point, lancez kmeans pour voir quels groupes seraient fait automatiquement. Par exemple en cherchant 3 classes sur les données avec seulement les traits \"sepal length\", \"petal width\":    \n",
    "\n",
    "\n",
    "<img src=\"TP/iris_pw_sl_3.png\" width=\"600\">"
   ]
  },
  {
   "cell_type": "markdown",
   "metadata": {},
   "source": [
    "Vous pouvez comparer aux vraies classes ! (ci-dessous)"
   ]
  },
  {
   "cell_type": "markdown",
   "metadata": {},
   "source": [
    "<img src=\"TP/iris_pw_sl_real.png\" width=\"600\">"
   ]
  },
  {
   "cell_type": "markdown",
   "metadata": {},
   "source": [
    "Pour cela (quand on connait les vraies catégories bien sûr) on peut calculer la \"pureté\" des clusters c'est à dire la proportion de la classe la plus représentée dans chaque cluster, et faire la moyenne sur l'ensemble des classes. \n",
    "\n",
    "\n",
    "avec $k$ clusters: $G_1, G_2, ..., G_k$, et pour chaque instance $x_i$ (i dans [1,n]) on a le vrai label du point $l(x_i)$, et C désignant l'ensemble des classes: \n",
    "\n",
    "$$ purity(G_j) = \\frac{max_{c\\in C}  \\sum_i l(x_i)=c}{|G_j|}$$\n",
    "\n",
    "\n",
    "\n",
    "Ecrivez une fonction qui implémente cette mesure sur un ensemble de données: pour chaque point on connait la \"vraie\" classe, et on a le résultat du clustering. "
   ]
  },
  {
   "cell_type": "markdown",
   "metadata": {},
   "source": [
    "NB: On reverra ceci et d'autres méthodes de clustering au 2e semestre dans le cours d'apprentissage. "
   ]
  },
  {
   "cell_type": "code",
   "execution_count": null,
   "metadata": {},
   "outputs": [],
   "source": []
  }
 ],
 "metadata": {
  "kernelspec": {
   "display_name": "Python 3",
   "language": "python",
   "name": "python3"
  },
  "language_info": {
   "codemirror_mode": {
    "name": "ipython",
    "version": 3
   },
   "file_extension": ".py",
   "mimetype": "text/x-python",
   "name": "python",
   "nbconvert_exporter": "python",
   "pygments_lexer": "ipython3",
   "version": "3.11.9"
  }
 },
 "nbformat": 4,
 "nbformat_minor": 4
}
