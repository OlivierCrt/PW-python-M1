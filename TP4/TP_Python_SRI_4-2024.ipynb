{
 "cells": [
  {
   "cell_type": "markdown",
   "metadata": {},
   "source": [
    "## TP4: Analyse de données (suite): clustering"
   ]
  },
  {
   "cell_type": "markdown",
   "metadata": {},
   "source": [
    "Dans ce TP l'objectif est d'implémenter un type d'analyse de données de façon non supervisée en faisant du \"clustering\", \n",
    "c'est à dire en cherchant des groupes de données qui se ressemblent, sans information préalable sur leurs catégories\n",
    "\n",
    "Par exemple si on observe ces points en deux dimensions, on peut distinguer trois groupes relativement séparés\n",
    "<img src=\"TP/cluster_init3.png\">"
   ]
  },
  {
   "cell_type": "markdown",
   "metadata": {},
   "source": [
    "Un algorithme de clustering est un algorithme qui est censé repérer ces groupes, éventuellement en supposant le nombre de groupes à chercher. "
   ]
  },
  {
   "cell_type": "code",
   "execution_count": 2,
   "metadata": {},
   "outputs": [],
   "source": [
    "%matplotlib inline\n",
    "from IPython.display import Image"
   ]
  },
  {
   "cell_type": "markdown",
   "metadata": {},
   "source": [
    "On utilisera le même module graphique qu'au TP3"
   ]
  },
  {
   "cell_type": "code",
   "execution_count": 3,
   "metadata": {},
   "outputs": [],
   "source": [
    "import matplotlib.pyplot as plt"
   ]
  },
  {
   "cell_type": "markdown",
   "metadata": {},
   "source": [
    "### Première partie: la méthodes des k moyennes\n",
    "\n",
    "Vous allez implémenter la méthodes des k moyennes sur des données artificielles, en utilisant la fonction qui génère des nuages de point du TP3\n",
    "\n",
    "Cet algorithme suit le principe suivant, en présupposant qu'on fixe le nombre de groupes $k$\n",
    "\n",
    "    - tirer au hasard k points dans l'espace voulu: ce seront les centres des clusters\n",
    "    - répéter jusqu'à convergence \n",
    "        - assigner chaque point au cluster dont le centre est le plus proche\n",
    "        - recalculer les centres des clusters: le nouveau centre est le barycentre des points du cluster (moyenne)\n",
    "        \n",
    "Un critère de convergence classique est de voir que la différence des distances des centres des clusters devient négligeable. On peut aussi fixer un nombre maximal d'itérations, mais ce n'est pas du tout optimal. \n",
    "\n",
    "Indice: Vous pouvez utiliser numpy pour simplifier certains calculs. \n",
    "\n",
    "\n"
   ]
  },
  {
   "cell_type": "markdown",
   "metadata": {},
   "source": [
    "Voici ce que donnerait un exemple d'éxécution sur les données ci-dessus, en choississant 2, 3 ou 4 clusters. Ici les couleurs sont assignées à chaque cluster repéré, pour faciliter la visualisation.  \n",
    "\n",
    "<table>\n",
    "    <tr>\n",
    "    <td> <img src=\"TP/kmeans_3_2.png\" width=\"400\"></td>\n",
    "    <td> <img src=\"TP/kmeans_3_3.png\" width=\"400\"></td>\n",
    "      <td>   <img src=\"TP/kmeans_3_4.png\" width=\"400\"></td>\n",
    "    </tr>\n",
    "</table>\n",
    "\n",
    "La croix indique le centre calculé pour chaque cluster. \n",
    "\n",
    "<strong> Attention </strong>: on génère des blobs pour avoir un exemple, mais évidemment l'algorithme de k-means n'a aucune information sur l'origine des données: il ne voit que l'ensemble total de tous les points. Vous pouvez générer n'importe quel nombre n de blobs, et tester les k-means avec k=ce que vous voulez (2, 3, 15, ...). "
   ]
  },
  {
   "cell_type": "markdown",
   "metadata": {},
   "source": [
    "Voici une version possible avec numpy pour la fonction blob du TP3, qui renvoie une matrice numpy:\n",
    "    "
   ]
  },
  {
   "cell_type": "code",
   "execution_count": 41,
   "metadata": {
    "scrolled": true
   },
   "outputs": [
    {
     "data": {
      "image/png": "[encoded data removed]",
      "text/plain": [
       "<Figure size 800x600 with 1 Axes>"
      ]
     },
     "metadata": {},
     "output_type": "display_data"
    },
    {
     "ename": "IndexError",
     "evalue": "list index out of range",
     "output_type": "error",
     "traceback": [
      "\u001b[1;31m---------------------------------------------------------------------------\u001b[0m",
      "\u001b[1;31mIndexError\u001b[0m                                Traceback (most recent call last)",
      "Cell \u001b[1;32mIn[41], line 171\u001b[0m\n\u001b[0;32m    162\u001b[0m \u001b[38;5;66;03m#cluster and bary\u001b[39;00m\n\u001b[0;32m    164\u001b[0m \u001b[38;5;124;03m\"\"\"\u001b[39;00m\n\u001b[0;32m    165\u001b[0m \u001b[38;5;124;03mc=clusters(5,all_points)\u001b[39;00m\n\u001b[0;32m    166\u001b[0m \u001b[38;5;124;03mplot_clusters(c)\u001b[39;00m\n\u001b[1;32m   (...)\u001b[0m\n\u001b[0;32m    169\u001b[0m \u001b[38;5;124;03mplot_clusters(ccopy_cent)\u001b[39;00m\n\u001b[0;32m    170\u001b[0m \u001b[38;5;124;03m\"\"\"\u001b[39;00m\n\u001b[1;32m--> 171\u001b[0m j\u001b[38;5;241m=\u001b[39m\u001b[43mlearn_until_good\u001b[49m\u001b[43m(\u001b[49m\u001b[43mall_points\u001b[49m\u001b[43m,\u001b[49m\u001b[38;5;241;43m5\u001b[39;49m\u001b[43m)\u001b[49m\n\u001b[0;32m    172\u001b[0m plot_clusters(j[\u001b[38;5;241m0\u001b[39m])\n",
      "Cell \u001b[1;32mIn[41], line 120\u001b[0m, in \u001b[0;36mlearn_until_good\u001b[1;34m(cloud, kp)\u001b[0m\n\u001b[0;32m    118\u001b[0m cpt\u001b[38;5;241m=\u001b[39m\u001b[38;5;241m0\u001b[39m\n\u001b[0;32m    119\u001b[0m \u001b[38;5;28;01mfor\u001b[39;00m i \u001b[38;5;129;01min\u001b[39;00m \u001b[38;5;28mrange\u001b[39m (\u001b[38;5;241m1000\u001b[39m) :\n\u001b[1;32m--> 120\u001b[0m     is_good, avg_accuracy \u001b[38;5;241m=\u001b[39m \u001b[43mevaluate_xith_cond\u001b[49m\u001b[43m(\u001b[49m\u001b[43mcloud_clustered\u001b[49m\u001b[43m,\u001b[49m\u001b[43m \u001b[49m\u001b[43mold_cloud_clustered\u001b[49m\u001b[43m)\u001b[49m\n\u001b[0;32m    121\u001b[0m     \u001b[38;5;28;01mif\u001b[39;00m is_good :\n\u001b[0;32m    122\u001b[0m         \u001b[38;5;28;01mbreak\u001b[39;00m\n",
      "Cell \u001b[1;32mIn[41], line 101\u001b[0m, in \u001b[0;36mevaluate_xith_cond\u001b[1;34m(cloud_clustered, old_cloud_clustered, seuil, wanted_precision)\u001b[0m\n\u001b[0;32m     99\u001b[0m \u001b[38;5;28;01mfor\u001b[39;00m i \u001b[38;5;129;01min\u001b[39;00m \u001b[38;5;28mrange\u001b[39m(nb_keys):\n\u001b[0;32m    100\u001b[0m     current_key \u001b[38;5;241m=\u001b[39m \u001b[38;5;28mlist\u001b[39m(cloud_clustered\u001b[38;5;241m.\u001b[39mkeys())[i]\n\u001b[1;32m--> 101\u001b[0m     old_key \u001b[38;5;241m=\u001b[39m \u001b[38;5;28;43mlist\u001b[39;49m\u001b[43m(\u001b[49m\u001b[43mold_cloud_clustered\u001b[49m\u001b[38;5;241;43m.\u001b[39;49m\u001b[43mkeys\u001b[49m\u001b[43m(\u001b[49m\u001b[43m)\u001b[49m\u001b[43m)\u001b[49m\u001b[43m[\u001b[49m\u001b[43mi\u001b[49m\u001b[43m]\u001b[49m\n\u001b[0;32m    103\u001b[0m     dist \u001b[38;5;241m=\u001b[39m euclidean_dist(current_key, old_key)\n\u001b[0;32m    105\u001b[0m     accuracy_current \u001b[38;5;241m=\u001b[39m \u001b[38;5;28mmax\u001b[39m(\u001b[38;5;241m0\u001b[39m, \u001b[38;5;241m1\u001b[39m \u001b[38;5;241m-\u001b[39m dist \u001b[38;5;241m/\u001b[39m seuil)\n",
      "\u001b[1;31mIndexError\u001b[0m: list index out of range"
     ]
    }
   ],
   "source": [
    "import numpy as np\n",
    "import random\n",
    "def blob(x0,y0,n,scale=1.):\n",
    "    \"\"\"\n",
    "    nuage de points autour de (x,y)\n",
    "    \"\"\"   \n",
    "    return np.random.normal((x0,y0),scale,size=(n,2))\n",
    "\n",
    "def euclidean_dist(point1, point2):\n",
    "    return np.sqrt((point2[0] - point1[0]) ** 2 + (point2[1] - point1[1]) ** 2)\n",
    "\n",
    "def take_k_points(kp,cloud) :\n",
    "\n",
    "    return (random.choices(cloud,k=kp))\n",
    "\n",
    "def clusters(kp, cloud) :\n",
    "    \"\"\"kp : nb of mids\n",
    "        The fonction create clusters with kp random points  \"\"\"\n",
    "\n",
    "    mids=take_k_points(kp,cloud)\n",
    "    cloud_clustered =dict()\n",
    "    for key in mids :\n",
    "        cloud_clustered[tuple(key)] = []\n",
    "\n",
    "\n",
    "    for point in cloud:\n",
    "        dist = float('inf')\n",
    "        closest_mid = None\n",
    "     \n",
    "        for k in mids:\n",
    "            current_d = euclidean_dist(k, point)\n",
    "            if current_d < dist:\n",
    "                dist = current_d\n",
    "                closest_mid = k\n",
    "        \n",
    "        cloud_clustered[tuple(closest_mid)].append(point)\n",
    "        \n",
    "\n",
    "    return cloud_clustered\n",
    "\n",
    "def barycentre(cloud):\n",
    "    if not cloud:  \n",
    "        return (0, 0)\n",
    "    sum_x = 0\n",
    "    sum_y = 0\n",
    "    for point in cloud :\n",
    "        sum_x += point[0]\n",
    "        sum_y += point[1]\n",
    "\n",
    "    n=len(cloud)\n",
    "    bary_x = sum_x/n    \n",
    "    bary_y = sum_y/n\n",
    "\n",
    "    return (bary_x,bary_y)\n",
    "\n",
    "def recalculate_centers(cloud_clustered):\n",
    "    \"\"\"barycentred clusters\n",
    "    return new and old cloud\"\"\"\n",
    "    new_centers_dict = dict()\n",
    "\n",
    "    for key in list(cloud_clustered.keys()):#list() needed\n",
    "        \n",
    "        bary = barycentre(cloud_clustered[key])  \n",
    "\n",
    "\n",
    "        new_centers_dict[bary] = cloud_clustered[key]\n",
    "\n",
    "    return new_centers_dict\n",
    "\n",
    "def plot_clusters(cloud_clustered):\n",
    "\n",
    "    colors = plt.cm.get_cmap('viridis', len(cloud_clustered))\n",
    "\n",
    "    plt.figure(figsize=(10, 6))\n",
    "\n",
    "    for indexx, (middle, points) in enumerate(cloud_clustered.items()):\n",
    "        points = np.array(points) \n",
    "        plt.scatter(points[:, 0], points[:, 1], label=f'Cluster {indexx + 1}', color=colors(indexx))  # Plot points\n",
    "\n",
    "        # middles\n",
    "        plt.scatter(*middle, color='black', marker='x', s=100, label=f'k points {indexx + 1}')\n",
    "\n",
    "    plt.xlabel('X-axis')\n",
    "    plt.ylabel('Y-axis')\n",
    "\n",
    "    plt.title('Clustered Points Visualization')\n",
    "    plt.legend()\n",
    "\n",
    "    plt.grid()\n",
    "    plt.xlim(0, 1)\n",
    "    plt.ylim(0, 1)\n",
    "    plt.show()\n",
    "   \n",
    "def evaluate_xith_cond(cloud_clustered, old_cloud_clustered, seuil=0.05, wanted_precision=0.9):\n",
    "    \"\"\"Evaluate the closeness of current cluster centers to the previous centers.\"\"\"\n",
    "    nb_keys = len(cloud_clustered)\n",
    "    total_accuracy = 0\n",
    "\n",
    "    for i in range(nb_keys):\n",
    "        current_key = list(cloud_clustered.keys())[i]\n",
    "        old_key = list(old_cloud_clustered.keys())[i]\n",
    "        \n",
    "        dist = euclidean_dist(current_key, old_key)\n",
    "        \n",
    "        accuracy_current = max(0, 1 - dist / seuil)\n",
    "        total_accuracy += accuracy_current\n",
    "\n",
    "    average_accuracy = total_accuracy / nb_keys\n",
    "    is_good = average_accuracy >= wanted_precision\n",
    "\n",
    "    return is_good, average_accuracy\n",
    "\n",
    "def learn_until_good(cloud,kp) :\n",
    "    cloud_clustered=clusters(kp,cloud)\n",
    "    old_cloud_clustered = { (float('inf'), float('inf')): [] for _ in range(len(cloud_clustered)) }\n",
    "\n",
    "    \n",
    "    cpt=0\n",
    "    for i in range (1000) :\n",
    "        is_good, avg_accuracy = evaluate_xith_cond(cloud_clustered, old_cloud_clustered)\n",
    "        if is_good :\n",
    "            break\n",
    "        old_cloud_clustered = cloud_clustered.copy()\n",
    "        cloud_clustered = recalculate_centers(cloud_clustered)\n",
    "\n",
    "    return cloud_clustered,cpt\n",
    "        \n",
    "\n",
    "\n",
    "\n",
    "\n",
    "        \n",
    "            \n",
    "\n",
    "    \n",
    "            \n",
    "    \n",
    "\n",
    "\n",
    "\n",
    "\n",
    "#TEST\n",
    "#cloud base\n",
    "\n",
    "g1 = blob(0.2, 0.8, 50, scale=0.05)\n",
    "g2 = blob(0.8, 0.8, 50, scale=0.08)\n",
    "g3 = blob(0.5, 0.5, 50, scale=0.07)\n",
    "g4 = blob(0.2, 0.2, 50, scale=0.06)\n",
    "g5 = blob(0.8, 0.2, 50, scale=0.04)\n",
    "\n",
    "\n",
    "all_points = np.vstack([g1, g2, g3, g4, g5])#concatenation\n",
    "\n",
    "plt.figure(figsize=(8, 6))\n",
    "plt.xlim((0, 1))\n",
    "plt.ylim((0, 1))\n",
    "plt.scatter(all_points[:, 0], all_points[:, 1], color='blue', marker='o')\n",
    "\n",
    "plt.title(\"Cloud\")\n",
    "plt.grid(False)\n",
    "plt.show()\n",
    "#cluster and bary\n",
    "\n",
    "\n",
    "c=clusters(5,all_points)\n",
    "plot_clusters(c)\n",
    "\n",
    "plot_clusters(ccopy_cent)\n",
    "old_cloud_clustered = { (float('inf'), float('inf')): [] for _ in range(len(cloud_clustered)) }\n",
    "\n",
    "#j=learn_until_good(all_points,5)\n",
    "#plot_clusters(j[0])"
   ]
  },
  {
   "cell_type": "markdown",
   "metadata": {},
   "source": [
    "### Deuxième partie: de \"vraies\" données\n",
    "\n",
    "Vous pouvez maintenant utiliser le fichier \"iris.txt\", du TP 3. \n",
    "Rappel: Il contient des caractéristiques de différentes fleurs de l'espèce iris, réparties en trois sous-espèces \"setosa\", \"virginica\", \"versicolor\". \n",
    "\n",
    "Vous pouvez utiliser numpy pour lire directement les données: "
   ]
  },
  {
   "cell_type": "code",
   "execution_count": 5,
   "metadata": {},
   "outputs": [
    {
     "data": {
      "text/plain": [
       "'c:\\\\Users\\\\ocram\\\\Python\\\\Tp python 2a\\\\TP4'"
      ]
     },
     "execution_count": 5,
     "metadata": {},
     "output_type": "execute_result"
    }
   ],
   "source": [
    "%pwd"
   ]
  },
  {
   "cell_type": "code",
   "execution_count": 6,
   "metadata": {},
   "outputs": [
    {
     "data": {
      "image/png": "[encoded data removed]",
      "text/plain": [
       "<Figure size 640x480 with 1 Axes>"
      ]
     },
     "metadata": {},
     "output_type": "display_data"
    }
   ],
   "source": [
    "import numpy as np\n",
    "import random\n",
    "data = np.genfromtxt('iris.txt', dtype=None,delimiter=',',names=True,encoding=\"utf8\")\n",
    "\n",
    "def jumbo(data):\n",
    "    sepal = []\n",
    "    for i in data :\n",
    "        sepal.append((i[0],i[1]))\n",
    "\n",
    "    return sepal\n",
    "        \n",
    "\n",
    "\n",
    "def plot_tuples(tuples):\n",
    "    x_coords, y_coords = zip(*tuples)  \n",
    "    plt.scatter(x_coords, y_coords)    \n",
    "    plt.xlabel('X')               \n",
    "    plt.ylabel('Y')               \n",
    "    plt.title('Plot')        \n",
    "    plt.grid(True)                     \n",
    "    plt.show()                         \n",
    "\n",
    "\n",
    "\n",
    "\n",
    "\n",
    "def cluster_1center(center,cloud,range):\n",
    "    \"\"\"return the list of tuple of the cluster\"\"\"\n",
    "    res =[]\n",
    "    for point in cloud :\n",
    "        norm = np.sqrt((point[0] - center[0]) ** 2 + (point[1] - center[1]) ** 2)\n",
    "        if norm <= range :\n",
    "            res.append(point)\n",
    "\n",
    "    return res\n",
    "\n",
    "cloud = jumbo(data)\n",
    "clust =cluster_1center(random.choice(cloud), cloud, 0.5)\n",
    "plot_tuples(clust)\n",
    "\n"
   ]
  },
  {
   "cell_type": "markdown",
   "metadata": {
    "collapsed": true,
    "jupyter": {
     "outputs_hidden": true
    }
   },
   "source": [
    "En supposant qu'on ne connait pas la classe de chaque point, lancez kmeans pour voir quels groupes seraient fait automatiquement. Par exemple en cherchant 3 classes sur les données avec seulement les traits \"sepal length\", \"petal width\":    \n",
    "\n",
    "\n",
    "<img src=\"TP/iris_pw_sl_3.png\" width=\"600\">"
   ]
  },
  {
   "cell_type": "markdown",
   "metadata": {},
   "source": [
    "Vous pouvez comparer aux vraies classes ! (ci-dessous)"
   ]
  },
  {
   "cell_type": "markdown",
   "metadata": {},
   "source": [
    "<img src=\"TP/iris_pw_sl_real.png\" width=\"600\">"
   ]
  },
  {
   "cell_type": "markdown",
   "metadata": {},
   "source": [
    "Pour cela (quand on connait les vraies catégories bien sûr) on peut calculer la \"pureté\" des clusters c'est à dire la proportion de la classe la plus représentée dans chaque cluster, et faire la moyenne sur l'ensemble des classes. \n",
    "\n",
    "\n",
    "avec $k$ clusters: $G_1, G_2, ..., G_k$, et pour chaque instance $x_i$ (i dans [1,n]) on a le vrai label du point $l(x_i)$, et C désignant l'ensemble des classes: \n",
    "\n",
    "$$ purity(G_j) = \\frac{max_{c\\in C}  \\sum_i l(x_i)=c}{|G_j|}$$\n",
    "\n",
    "\n",
    "\n",
    "Ecrivez une fonction qui implémente cette mesure sur un ensemble de données: pour chaque point on connait la \"vraie\" classe, et on a le résultat du clustering. "
   ]
  },
  {
   "cell_type": "markdown",
   "metadata": {},
   "source": [
    "NB: On reverra ceci et d'autres méthodes de clustering au 2e semestre dans le cours d'apprentissage. "
   ]
  },
  {
   "cell_type": "code",
   "execution_count": null,
   "metadata": {},
   "outputs": [],
   "source": []
  }
 ],
 "metadata": {
  "kernelspec": {
   "display_name": "Python 3",
   "language": "python",
   "name": "python3"
  },
  "language_info": {
   "codemirror_mode": {
    "name": "ipython",
    "version": 3
   },
   "file_extension": ".py",
   "mimetype": "text/x-python",
   "name": "python",
   "nbconvert_exporter": "python",
   "pygments_lexer": "ipython3",
   "version": "3.11.9"
  }
 },
 "nbformat": 4,
 "nbformat_minor": 4
}
