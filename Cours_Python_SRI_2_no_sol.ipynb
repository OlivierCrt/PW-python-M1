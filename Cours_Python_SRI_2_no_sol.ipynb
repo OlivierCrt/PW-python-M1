{
 "cells": [
  {
   "attachments": {},
   "cell_type": "markdown",
   "metadata": {
    "slideshow": {
     "slide_type": "slide"
    }
   },
   "source": [
    "Programmation objet en python\n",
    "===================================\n",
    "\n",
    "Abstraction & Encapsulation\n",
    "----------------------------\n",
    "\n",
    "On a vu l'utilité des structures de données \"natives\": listes, dictionnaires, ensembles, et qu'elles peuvent\n",
    "servir à définir des types de données différents, spécifiques, comme dans l'exemple des polynômes et \n",
    "des vecteurs creux. \n",
    "\n",
    "Pour ces derniers on a défini un ensemble de fonctions et procédures, certaines basiques, d'autres plus élaborées\n",
    "et utilisant les basiques. \n",
    "\n",
    "D'une façon générale, un type de données peut toujours être ramené à un ensemble d'opérations de base, ou \n",
    "\"primitives\", sur lesquelles on peut développer l'ensemble du code utile. "
   ]
  },
  {
   "attachments": {},
   "cell_type": "markdown",
   "metadata": {
    "slideshow": {
     "slide_type": "slide"
    }
   },
   "source": [
    "Prenons l'exemple des polynômes, sur lesquels on peut définir : \n",
    "\n",
    "   * la valeur en un point $x_0$\n",
    "   * l'addition, la multiplication\n",
    "   * la dérivation\n",
    "  \n",
    "Un polynôme peut être défini par la liste des coefficients de ses puissances, de 0 jusqu'à l'exposant non nul maximum\n",
    "\n",
    "$1 + x^2 + 3x^5 \\rightarrow$ [1,0,1,0,0,3]  \n",
    "\n",
    "On a vu aussi avec des vecteurs creux qu'on aurait tout aussi bien pu définir ce type avec un dictionnaire répertoriant les coefficients \n",
    "non nuls, ici {0:1, 2:1, 5:3}"
   ]
  },
  {
   "attachments": {},
   "cell_type": "markdown",
   "metadata": {
    "slideshow": {
     "slide_type": "slide"
    }
   },
   "source": [
    "Sur le long terme, on ne veut pas que le programme développé sur ces bases soit trop dépendants des choix\n",
    "d'implémentation de départ, tout ce que l'on veut est d'utiliser les opérations qui ont du sens pour les données\n",
    "en question. C'est le sens de la programmation objet: \"encapsuler\" au maximum le code. \n",
    "\n",
    "Que faut-il pour définir un type suivant ces principes ? \n",
    "\n",
    "   * pouvoir initialiser une variable de ce type\n",
    "   * avoir accès à son contenu (coefficients), pouvoir les modifier au besoin\n",
    "   * un ensemble d'opérations de base"
   ]
  },
  {
   "attachments": {},
   "cell_type": "markdown",
   "metadata": {
    "slideshow": {
     "slide_type": "slide"
    }
   },
   "source": [
    "Reprenons maintenant l'exemple des vecteurs creux, il faut \n",
    "\n",
    "  * initialiser un vecteur avec un ensemble de valeurs\n",
    "  * accéder aux valeurs, les modifier\n",
    "  * opérations vectorielles: produit par un scalaire, addition\n",
    " \n",
    "Première version:"
   ]
  },
  {
   "cell_type": "code",
   "execution_count": null,
   "metadata": {
    "slideshow": {
     "slide_type": "subslide"
    }
   },
   "outputs": [],
   "source": [
    "# initialisation à partir d'un vecteur \"complet\"\n",
    "def faire_creux(plein):\n",
    "    v = {}\n",
    "    for (i,x) in enumerate(plein):\n",
    "        if x!=0.:\n",
    "            v[i]=x\n",
    "    return v"
   ]
  },
  {
   "cell_type": "code",
   "execution_count": null,
   "metadata": {},
   "outputs": [],
   "source": []
  },
  {
   "cell_type": "code",
   "execution_count": 2,
   "metadata": {
    "slideshow": {
     "slide_type": "fragment"
    }
   },
   "outputs": [
    {
     "name": "stdout",
     "output_type": "stream",
     "text": [
      "{1: 10, 7: -2.5}\n"
     ]
    }
   ],
   "source": [
    "l=[0,10,0,0,0 ,0,0,-2.5,0,0.,0.]\n",
    "v = faire_creux(l)\n",
    "print(v)"
   ]
  },
  {
   "cell_type": "code",
   "execution_count": 3,
   "metadata": {
    "slideshow": {
     "slide_type": "subslide"
    }
   },
   "outputs": [],
   "source": [
    "# modifier des valeurs\n",
    "v[1] = 2\n",
    "v[2] = -6.3  "
   ]
  },
  {
   "cell_type": "code",
   "execution_count": 4,
   "metadata": {
    "scrolled": true,
    "slideshow": {
     "slide_type": "fragment"
    }
   },
   "outputs": [
    {
     "name": "stdout",
     "output_type": "stream",
     "text": [
      "-6.3\n"
     ]
    },
    {
     "ename": "KeyError",
     "evalue": "5",
     "output_type": "error",
     "traceback": [
      "\u001b[0;31m---------------------------------------------------------------------------\u001b[0m",
      "\u001b[0;31mKeyError\u001b[0m                                  Traceback (most recent call last)",
      "\u001b[0;32m/tmp/ipykernel_1200646/152719304.py\u001b[0m in \u001b[0;36m<cell line: 3>\u001b[0;34m()\u001b[0m\n\u001b[1;32m      1\u001b[0m \u001b[0;31m# accéder aux valeurs\u001b[0m\u001b[0;34m\u001b[0m\u001b[0;34m\u001b[0m\u001b[0;34m\u001b[0m\u001b[0m\n\u001b[1;32m      2\u001b[0m \u001b[0mprint\u001b[0m\u001b[0;34m(\u001b[0m\u001b[0mv\u001b[0m\u001b[0;34m[\u001b[0m\u001b[0;36m2\u001b[0m\u001b[0;34m]\u001b[0m\u001b[0;34m)\u001b[0m\u001b[0;34m\u001b[0m\u001b[0;34m\u001b[0m\u001b[0m\n\u001b[0;32m----> 3\u001b[0;31m \u001b[0mprint\u001b[0m\u001b[0;34m(\u001b[0m\u001b[0mv\u001b[0m\u001b[0;34m[\u001b[0m\u001b[0;36m5\u001b[0m\u001b[0;34m]\u001b[0m\u001b[0;34m)\u001b[0m\u001b[0;34m\u001b[0m\u001b[0;34m\u001b[0m\u001b[0m\n\u001b[0m",
      "\u001b[0;31mKeyError\u001b[0m: 5"
     ]
    }
   ],
   "source": [
    "# accéder aux valeurs\n",
    "print(v[2]) \n",
    "print(v[5])"
   ]
  },
  {
   "cell_type": "code",
   "execution_count": 5,
   "metadata": {
    "slideshow": {
     "slide_type": "fragment"
    }
   },
   "outputs": [
    {
     "data": {
      "text/plain": [
       "0"
      ]
     },
     "execution_count": 5,
     "metadata": {},
     "output_type": "execute_result"
    }
   ],
   "source": [
    "v.get(5,0)"
   ]
  },
  {
   "attachments": {},
   "cell_type": "markdown",
   "metadata": {
    "slideshow": {
     "slide_type": "fragment"
    }
   },
   "source": [
    "Pas très pratique avec un dictionnaire :\n",
    "on aimerait bien ne pas avoir à s'occuper de tester les valeurs à chaque fois qu'on veut\n",
    "accéder à une coordonnée. \n",
    "\n",
    "Continuons avec les autres opérations : addition, multiplication terme à terme, produit vectoriel, ou par un scalaire."
   ]
  },
  {
   "cell_type": "code",
   "execution_count": 1,
   "metadata": {
    "slideshow": {
     "slide_type": "subslide"
    }
   },
   "outputs": [],
   "source": [
    "def add(v1,v2):\n",
    "    v = {}\n",
    "    for a in (set(v1.keys())| set(v2.keys())):\n",
    "        v[a] = v1.get(a,0) + v2.get(a,0)\n",
    "        if v[a]==0:\n",
    "            del v[a]\n",
    "            print(a)\n",
    "    return v"
   ]
  },
  {
   "cell_type": "code",
   "execution_count": null,
   "metadata": {},
   "outputs": [],
   "source": []
  },
  {
   "cell_type": "code",
   "execution_count": null,
   "metadata": {},
   "outputs": [],
   "source": []
  },
  {
   "attachments": {},
   "cell_type": "markdown",
   "metadata": {
    "slideshow": {
     "slide_type": "fragment"
    }
   },
   "source": [
    "Encore une fois on doit s'occuper de gérer l'absence possible du coefficient. "
   ]
  },
  {
   "cell_type": "code",
   "execution_count": 7,
   "metadata": {
    "slideshow": {
     "slide_type": "subslide"
    }
   },
   "outputs": [],
   "source": [
    "def mult(v1,v2):\n",
    "    \n",
    "\n",
    "def prod_scalaire(v1,v2):\n",
    "    \n",
    "\n",
    "def scalaire(k,v):\n",
    "    "
   ]
  },
  {
   "attachments": {},
   "cell_type": "markdown",
   "metadata": {
    "slideshow": {
     "slide_type": "subslide"
    }
   },
   "source": [
    "On passe à : soustraction, norme, que l'on peut définir à partir des opérations précédentes:"
   ]
  },
  {
   "cell_type": "code",
   "execution_count": 8,
   "metadata": {
    "slideshow": {
     "slide_type": "fragment"
    }
   },
   "outputs": [],
   "source": [
    "from math import sqrt \n",
    "\n",
    "def soustraction(v1,v2):\n",
    "    \n",
    "\n",
    "def norme(v):\n",
    "    "
   ]
  },
  {
   "cell_type": "code",
   "execution_count": 9,
   "metadata": {
    "slideshow": {
     "slide_type": "fragment"
    }
   },
   "outputs": [
    {
     "data": {
      "text/plain": [
       "7.066823897621901"
      ]
     },
     "execution_count": 9,
     "metadata": {},
     "output_type": "execute_result"
    }
   ],
   "source": [
    "norme(v)  "
   ]
  },
  {
   "cell_type": "code",
   "execution_count": 10,
   "metadata": {
    "slideshow": {
     "slide_type": "fragment"
    }
   },
   "outputs": [
    {
     "data": {
      "text/plain": [
       "{}"
      ]
     },
     "execution_count": 10,
     "metadata": {},
     "output_type": "execute_result"
    }
   ],
   "source": [
    " soustraction(v,v)"
   ]
  },
  {
   "attachments": {},
   "cell_type": "markdown",
   "metadata": {
    "slideshow": {
     "slide_type": "subslide"
    }
   },
   "source": [
    "Encore quelques fonctions: distance euclidienne entre 2 vecteurs, distance de hamming (nombre de coordonnées différentes)\n",
    "\n"
   ]
  },
  {
   "cell_type": "code",
   "execution_count": 11,
   "metadata": {
    "slideshow": {
     "slide_type": "fragment"
    }
   },
   "outputs": [],
   "source": [
    "def dist_euclide(v1,v2):\n",
    "    return \n",
    "\n",
    "def hamming(v1,v2):\n",
    "    "
   ]
  },
  {
   "attachments": {},
   "cell_type": "markdown",
   "metadata": {
    "slideshow": {
     "slide_type": "subslide"
    }
   },
   "source": [
    "Dommage de devoir savoir l'accès aux coefficients non nuls ... ajoutons une fonction"
   ]
  },
  {
   "cell_type": "code",
   "execution_count": 12,
   "metadata": {
    "slideshow": {
     "slide_type": "fragment"
    }
   },
   "outputs": [],
   "source": [
    "def non_zeros(v):\n",
    "    \n",
    "\n",
    "def hamming(v1,v2):\n",
    "    "
   ]
  },
  {
   "cell_type": "code",
   "execution_count": 13,
   "metadata": {
    "slideshow": {
     "slide_type": "fragment"
    }
   },
   "outputs": [
    {
     "data": {
      "text/plain": [
       "0"
      ]
     },
     "execution_count": 13,
     "metadata": {},
     "output_type": "execute_result"
    }
   ],
   "source": [
    "hamming(v,v)"
   ]
  },
  {
   "cell_type": "code",
   "execution_count": 14,
   "metadata": {
    "slideshow": {
     "slide_type": "fragment"
    }
   },
   "outputs": [
    {
     "data": {
      "text/plain": [
       "3"
      ]
     },
     "execution_count": 14,
     "metadata": {},
     "output_type": "execute_result"
    }
   ],
   "source": [
    "hamming(v,scalaire(2,v))"
   ]
  },
  {
   "cell_type": "code",
   "execution_count": 15,
   "metadata": {
    "slideshow": {
     "slide_type": "fragment"
    }
   },
   "outputs": [
    {
     "data": {
      "text/plain": [
       "dict_keys([1, 7, 2])"
      ]
     },
     "execution_count": 15,
     "metadata": {},
     "output_type": "execute_result"
    }
   ],
   "source": [
    "non_zeros(v)"
   ]
  },
  {
   "attachments": {},
   "cell_type": "markdown",
   "metadata": {
    "slideshow": {
     "slide_type": "subslide"
    }
   },
   "source": [
    "\n",
    "\n",
    "|Basique        | Non basique \n",
    "|---------------|-------------------------\n",
    "| faire_creux   | norme\n",
    "| non_zeros     | soustraction\n",
    "| get           | distance euclidienne  \n",
    "| addition      | distance de hamming\n",
    "| multiplication| ..\n",
    "| scalaire      | ..\n",
    "| prod_vect     | ..\n",
    "\n"
   ]
  },
  {
   "attachments": {},
   "cell_type": "markdown",
   "metadata": {
    "slideshow": {
     "slide_type": "subslide"
    }
   },
   "source": [
    "Conclusion: si on veut changer quelque chose, on ne touche qu'à la première colonne. \n",
    "\n",
    "  * plus facile de mettre à jour le code, voir de changer complètement les choix de base de l'implémentation\n",
    "  * plus facile d'ajouter de nouvelles fonctions: on n'utilise que les fonctions de base, censées être plus intuitives\n",
    "  * plus élégant et facile à lire\n",
    "\n",
    "\n",
    "Peut-on faire mieux ? \n",
    "\n",
    "  * get dépend du fait qu'on a un dictionnaire\n",
    "  * addition et multiplication sont déjà des opérations complexes\n",
    "  "
   ]
  },
  {
   "attachments": {},
   "cell_type": "markdown",
   "metadata": {
    "slideshow": {
     "slide_type": "subslide"
    }
   },
   "source": [
    "On ajoute: \n",
    "  \n",
    "  * une fonction pour récupérer la valeur d'un coeff, nul ou non, indépendant du type dictionnaire\n",
    "  * non_zeros peut servir à récupérer les coeffs non nuls\n",
    "  \n",
    "  \n",
    "Attention quand même: dans certains cas, les fonctions peuvent être plus efficaces en ayant accès\n",
    "explicitement à la structure, il y a donc un compromis à trouver (pas seulement le nombre de fonctions \n",
    "de base donc). "
   ]
  },
  {
   "cell_type": "code",
   "execution_count": 16,
   "metadata": {
    "slideshow": {
     "slide_type": "subslide"
    }
   },
   "outputs": [],
   "source": []
  },
  {
   "attachments": {},
   "cell_type": "markdown",
   "metadata": {
    "slideshow": {
     "slide_type": "subslide"
    }
   },
   "source": [
    "Toujours dépendant du dictionnaire ... à cause de \n",
    "  \n",
    "   * test de non nullité\n",
    "   * modif d'un coeff du résultat\n",
    "   * initialisation du vecteur résultat"
   ]
  },
  {
   "cell_type": "code",
   "execution_count": 17,
   "metadata": {
    "slideshow": {
     "slide_type": "fragment"
    }
   },
   "outputs": [],
   "source": [
    "def change(vect,indice,valeur):\n",
    "   "
   ]
  },
  {
   "attachments": {},
   "cell_type": "markdown",
   "metadata": {
    "slideshow": {
     "slide_type": "subslide"
    }
   },
   "source": [
    "Et on a bien maintenant une addition \"abstraite\" définie sur les primitives :"
   ]
  },
  {
   "cell_type": "code",
   "execution_count": 18,
   "metadata": {
    "slideshow": {
     "slide_type": "fragment"
    }
   },
   "outputs": [],
   "source": [
    "def addition(v1,v2):\n",
    "    \n",
    "        "
   ]
  },
  {
   "attachments": {},
   "cell_type": "markdown",
   "metadata": {
    "slideshow": {
     "slide_type": "subslide"
    }
   },
   "source": [
    "|Basique     | Non basique \n",
    "|----------- |---------------\n",
    "| faire_creux| norme\n",
    "| non_zeros  | soustraction\n",
    "| change     | distance euclidienne  \n",
    "| coeff      | distance de hamming\n",
    "|            | addition \n",
    "\n",
    "Peut-on faire de même avec ? (exercice)\n",
    "  \n",
    "  * scalaire   \n",
    "  * multiplication\n",
    "  * prod_vect\n",
    "  \n",
    " "
   ]
  },
  {
   "cell_type": "code",
   "execution_count": 20,
   "metadata": {},
   "outputs": [
    {
     "data": {
      "text/plain": [
       "{1: 10, 7: -2.5}"
      ]
     },
     "execution_count": 20,
     "metadata": {},
     "output_type": "execute_result"
    }
   ],
   "source": [
    "l=[0,10,0,0,0 ,0,0,-2.5,0,0.,0.]\n",
    "v = faire_creux(l)\n",
    "v"
   ]
  },
  {
   "cell_type": "code",
   "execution_count": 21,
   "metadata": {},
   "outputs": [
    {
     "ename": "TypeError",
     "evalue": "unsupported operand type(s) for *: 'int' and 'dict'",
     "output_type": "error",
     "traceback": [
      "\u001b[0;31m---------------------------------------------------------------------------\u001b[0m",
      "\u001b[0;31mTypeError\u001b[0m                                 Traceback (most recent call last)",
      "\u001b[0;32m/tmp/ipykernel_1200646/1349601007.py\u001b[0m in \u001b[0;36m<cell line: 1>\u001b[0;34m()\u001b[0m\n\u001b[0;32m----> 1\u001b[0;31m \u001b[0;36m2\u001b[0m\u001b[0;34m*\u001b[0m\u001b[0mv\u001b[0m\u001b[0;34m\u001b[0m\u001b[0;34m\u001b[0m\u001b[0m\n\u001b[0m",
      "\u001b[0;31mTypeError\u001b[0m: unsupported operand type(s) for *: 'int' and 'dict'"
     ]
    }
   ],
   "source": [
    "2*v"
   ]
  },
  {
   "attachments": {},
   "cell_type": "markdown",
   "metadata": {
    "slideshow": {
     "slide_type": "subslide"
    }
   },
   "source": [
    " On s'est rapproché de l'approche objet, avec essentiellement des types de méthodes suivantes: \n",
    "\n",
    "   * des constructeurs pour créer de nouvelles données  (ici faire_creux)\n",
    "   * des accesseurs pour obtenir les valeurs des données (coeff, non_zeros)\n",
    "   * des manipulateurs pour changer les données (change)\n",
    "   \n",
    "   Parfois on ajoute aussi la notion de **destructeur** pour \"faire le ménage\" (par nécessaire en python)\n",
    "   \n",
    "   Dans tous les cas, en remontant dans l'abstraction on facilite l'extension et l'utilisation du code. \n",
    "   "
   ]
  },
  {
   "attachments": {},
   "cell_type": "markdown",
   "metadata": {
    "slideshow": {
     "slide_type": "skip"
    }
   },
   "source": [
    "Reprenons l'exemple des compteurs d'éléments d'une liste : comment structurer de façon plus abstraite ? \n",
    "Par exemple on peut vouloir faire des comptes séparés que l'on fusionne a posteriori selon différentes options. \n"
   ]
  },
  {
   "cell_type": "code",
   "execution_count": 28,
   "metadata": {
    "slideshow": {
     "slide_type": "skip"
    }
   },
   "outputs": [
    {
     "name": "stdout",
     "output_type": "stream",
     "text": [
      "[1, 1, 1, 3, 4, 4, 2, 2, 5, 6, 9]\n",
      "[(2, 2), (4, 2), (1, 3)]\n",
      "{'a': 8, 'b': 4, 'c': 2, 'd': 2, 'e': 4, 'f': 2}\n",
      "{'a': 4, 'b': 2, 'c': 1, 'd': 1, 'e': 2, 'f': 1, 'z': 3}\n",
      "{'a': 4, 'b': 2, 'c': 1, 'd': 1, 'e': 2, 'f': 1}\n"
     ]
    }
   ],
   "source": [
    "\n"
   ]
  },
  {
   "attachments": {},
   "cell_type": "markdown",
   "metadata": {
    "slideshow": {
     "slide_type": "slide"
    }
   },
   "source": [
    "## Types de données hétérogènes\n",
    "\n",
    "\n",
    "Les objets servent aussi à manipuler des données qui rassemblent des éléments de nature différentes, ce pour quoi on pourrait \n",
    "utiliser des tuples, comme par exemple des dates:\n",
    "\n",
    "    d=(3,12,2014)\n",
    "    \n",
    "    \n",
    "Si on a beaucoup de variables de ce type, on se retrouve souvent à accéder aux éléments avec des indices, et il faut alors\n",
    "se souvenir où est quoi, en l'absence de conventions évidentes. Vaut-il mieux ordonner en jour,mois,année, ou en \n",
    "année, mois, jour, pour pouvoir faire des comparaisons ? \n",
    "\n",
    "    d[0] # le jour ? le mois ? \n",
    "    \n",
    "Une solution simple est d'utiliser un dictionnaire pour cela:\n",
    "    \n",
    "    date = {\"jour\":3, \"mois\":12, \"année\":2014}\n",
    "    \n",
    "C'est pratique, mais on ne contrôle pas beaucoup ce que peut contenir une variable date, en particulier pour les champs jour et mois. On peut aussi vouloir permettre plusieurs façons de rentrer les données du mois (\"décembre\" / 12), et fournir\n",
    "des conversions implicites. "
   ]
  },
  {
   "attachments": {},
   "cell_type": "markdown",
   "metadata": {
    "slideshow": {
     "slide_type": "slide"
    }
   },
   "source": [
    "## La notion d'objet\n",
    "\n",
    "Pour aller vers plus de contrôle, la **programmation orientée objet** \n",
    "pousse les notions précédentes jusqu'à définir explicitement des données sur lesquelles sont définies des\n",
    "méthodes qui leur sont propres, et qui protègent l'accès au contenu de ces données. \n",
    "\n",
    "Un problème manifeste avec les fonctions créés sur les données vues plus haut, par exemple les vecteurs creux, est que l'on arrive vite à retomber sur les mêmes noms pour des opérations qui portent sur des types différents (par exemple add). \n",
    "On pourrait ajouter systématiquement au nom des fonctions le nom du type, mais c'est loin d'être pratique. \n",
    "Les méthodes objets prennent également ceci en compte. \n",
    "\n",
    "\n",
    "Reprenons l'exemple des dates, en python on définit des **classes** d'objets comme suit:"
   ]
  },
  {
   "cell_type": "code",
   "execution_count": 29,
   "metadata": {
    "slideshow": {
     "slide_type": "fragment"
    }
   },
   "outputs": [],
   "source": [
    "class Date:\n",
    "    pass\n",
    "    # etc ... "
   ]
  },
  {
   "attachments": {},
   "cell_type": "markdown",
   "metadata": {
    "slideshow": {
     "slide_type": "slide"
    }
   },
   "source": [
    "### Constructeur et attributs\n",
    "\n",
    "Que faut-il pour définir une classe ? On a vu qu'on se reposait \n",
    "souvent sur des constructeurs, accesseurs et manipulateurs. \n",
    "\n",
    "En python, seul le constructeur est obligatoire, et se définit avec le nom réservé \\_\\_init\\__\n",
    "\n",
    "Le contenu des données est initialisé  par ce constructeur dans ce qu'on appelle des attributs. \n",
    "\n",
    "Il n'y a pas besoin de destructeurs explicites, les objets sont libérés en l'absence de référence active pointant sur eux. (\"garbage collection\")"
   ]
  },
  {
   "cell_type": "code",
   "execution_count": 30,
   "metadata": {
    "slideshow": {
     "slide_type": "subslide"
    }
   },
   "outputs": [],
   "source": [
    "class Date:\n",
    "    \n",
    "    def __init__(self,jour,mois,annee):\n",
    "        if jour>=1 and jour<=31:\n",
    "            self.jour = jour\n",
    "        else:\n",
    "            self.jour = None\n",
    "        if mois>=1 and mois<=12:\n",
    "            self.mois = mois\n",
    "        else:\n",
    "            self.mois = None\n",
    "        if annee!=0:\n",
    "            self.annee = annee\n",
    "        else:\n",
    "            self.annee = None\n",
    "    "
   ]
  },
  {
   "cell_type": "code",
   "execution_count": 31,
   "metadata": {
    "slideshow": {
     "slide_type": "subslide"
    }
   },
   "outputs": [
    {
     "name": "stdout",
     "output_type": "stream",
     "text": [
      "<__main__.Date object at 0x7f50bebc8130>\n",
      "2014\n",
      "4\n",
      "2014\n",
      "None\n"
     ]
    }
   ],
   "source": [
    "#utilisation du constructeur\n",
    "d = Date(4,4,2014) \n",
    "print(d)\n",
    "\n",
    "#utilisation des attributs\n",
    "print(d.annee)\n",
    "print(d.jour)\n",
    "\n",
    "d2 = Date(56,1,2014)\n",
    "print(d2.annee)\n",
    "print(d2.jour)"
   ]
  },
  {
   "attachments": {},
   "cell_type": "markdown",
   "metadata": {
    "slideshow": {
     "slide_type": "subslide"
    }
   },
   "source": [
    "A noter: \n",
    "\n",
    "   * les opérations sur les objets sont des **méthodes**, on les appelle avec la syntaxe classique\n",
    "           objet.methode(parametres)\n",
    "   * pour définir une méthode on la définit à l'intérieur d'une classe, et on doit toujours ajouter comme paramètre l'objet qui l'appelle (par convention on le note souvent \"self\")\n",
    "   * \\_\\_init\\_\\_ est une méthode particulière: elle renvoie l'objet créé de la classe, et donc ne doit pas être appelé sur un objet existant. Par ailleurs, à l'appel, elle prend le nom de la classe. \n",
    "   * à part cela, les méthodes sont définies comme des fonctions et peuvent donc avoir des arguments optionnels. Par exemple on aurait pu définir le constructeur comme suit: \n",
    "           def __init__(self,jour=None,mois=None,annee=None):\n",
    "               etc ...\n",
    "              \n",
    "     et l'appeler : \n",
    "            d= Date(jour=1,mois=4)\n",
    "   \n",
    "    "
   ]
  },
  {
   "attachments": {},
   "cell_type": "markdown",
   "metadata": {
    "slideshow": {
     "slide_type": "subslide"
    }
   },
   "source": [
    "On peut affecter et changer les attributs ouvertement, mais si on veut \"protéger\" l'information pour éviter les valeurs incorrectes, il vaut mieux définir explicitement des accesseurs et manipulateurs (on verra plus tard une \n",
    "meilleure façon de faire la même chose en définissant des attributs publics, appelés \"property\") : \n",
    "\n"
   ]
  },
  {
   "cell_type": "code",
   "execution_count": 32,
   "metadata": {
    "slideshow": {
     "slide_type": "fragment"
    }
   },
   "outputs": [
    {
     "name": "stdout",
     "output_type": "stream",
     "text": [
      "3\n",
      "None\n",
      "<__main__.Date object at 0x7f50bebbb5e0>\n"
     ]
    }
   ],
   "source": [
    "class Date:\n",
    "    \n",
    "    def __init__(self,jour,mois,annee):\n",
    "        if jour>=1 and jour<=31:\n",
    "            self.jour = jour\n",
    "        else:\n",
    "            self.jour = None\n",
    "        if mois>=1 and mois<=12:\n",
    "            self.mois = mois\n",
    "        else:\n",
    "            self.mois = None\n",
    "        if annee!=0:\n",
    "            self.annee = annee\n",
    "        else:\n",
    "            self.annee = None\n",
    "            \n",
    "    def set_jour(self,new):\n",
    "        if new>=1 and new<=31:\n",
    "            self.jour = new\n",
    "            return True\n",
    "        else:\n",
    "            self.jour = None\n",
    "            return False\n",
    "        \n",
    "    def get_jour(self):\n",
    "        return self.jour\n",
    "            \n",
    "#######         \n",
    "\n",
    "d = Date(1,1,2014)\n",
    "d.set_jour(3)\n",
    "print(d.get_jour())\n",
    "d.set_jour(-6)\n",
    "print(d.get_jour())\n",
    "print(d)"
   ]
  },
  {
   "attachments": {},
   "cell_type": "markdown",
   "metadata": {
    "slideshow": {
     "slide_type": "subslide"
    }
   },
   "source": [
    "Exercice: définir un type durée, que l'on affiche en heures/minutes/secondes\n",
    "et sur lequel on peut faire des additions et soustractions. "
   ]
  },
  {
   "cell_type": "code",
   "execution_count": 34,
   "metadata": {},
   "outputs": [
    {
     "ename": "NameError",
     "evalue": "name 'Duree' is not defined",
     "output_type": "error",
     "traceback": [
      "\u001b[0;31m---------------------------------------------------------------------------\u001b[0m",
      "\u001b[0;31mNameError\u001b[0m                                 Traceback (most recent call last)",
      "\u001b[0;32m/tmp/ipykernel_1200646/3792469389.py\u001b[0m in \u001b[0;36m<cell line: 1>\u001b[0;34m()\u001b[0m\n\u001b[0;32m----> 1\u001b[0;31m \u001b[0ma\u001b[0m \u001b[0;34m=\u001b[0m \u001b[0mDuree\u001b[0m\u001b[0;34m(\u001b[0m\u001b[0;36m3000\u001b[0m\u001b[0;34m)\u001b[0m\u001b[0;34m\u001b[0m\u001b[0;34m\u001b[0m\u001b[0m\n\u001b[0m\u001b[1;32m      2\u001b[0m \u001b[0mprint\u001b[0m\u001b[0;34m(\u001b[0m\u001b[0ma\u001b[0m\u001b[0;34m.\u001b[0m\u001b[0mconvertir\u001b[0m\u001b[0;34m(\u001b[0m\u001b[0;34m)\u001b[0m\u001b[0;34m)\u001b[0m\u001b[0;34m\u001b[0m\u001b[0;34m\u001b[0m\u001b[0m\n",
      "\u001b[0;31mNameError\u001b[0m: name 'Duree' is not defined"
     ]
    }
   ],
   "source": [
    "a = Duree(3000)\n",
    "print(a.convertir())"
   ]
  },
  {
   "attachments": {},
   "cell_type": "markdown",
   "metadata": {
    "slideshow": {
     "slide_type": "subslide"
    }
   },
   "source": [
    "### Autres méthodes courantes\n",
    "\n",
    "De même que \\_\\_init\\__ est une méthode spéciale, on peut redéfinir certaines méthodes suivantes pour avoir des effets particuliers :\n",
    "\n",
    "   * \\_\\_repr\\_\\_(self) définit la chaine qui s'affiche quand on fait un 'print'\n",
    "   * \\_\\_getitem\\_\\_ peut définir des accès avec des indices si besoin est, en lecture (... = x[0])\n",
    "   * \\_\\_setitem\\_\\_ peut définir des accès avec des indices si besoin est, en écriture (x[0]= ...)\n",
    "   * \\_\\_contains\\_\\_ peut redéfinir l'opérateur in \n",
    "  "
   ]
  },
  {
   "attachments": {},
   "cell_type": "markdown",
   "metadata": {
    "slideshow": {
     "slide_type": "subslide"
    }
   },
   "source": [
    "Les opérateurs mathématiques peuvent être **surchargés** pour prendre comme arguments des objets de la classe considérée, en redéfinissant les méthodes suivantes: \n",
    "  \n",
    "  * \\_\\_add\\_\\_(self, other) : pour utiliser + \n",
    "  * \\_\\_sub\\_\\_(self, other) : - \n",
    "  * \\_\\_mul\\_\\_(self, other) : *\n",
    " \n",
    "Enfin il faut noter que l'on documente les classes comme des fonctions. "
   ]
  },
  {
   "attachments": {},
   "cell_type": "markdown",
   "metadata": {
    "slideshow": {
     "slide_type": "slide"
    }
   },
   "source": [
    "### Exercices:\n",
    "\n",
    "\n",
    "  - Reprendre les vecteurs creux pour en faire un bel objet. \n",
    "\n",
    "   * définir la classe, les attributs et le constructeur\n",
    "   * redéfinir l'addition, la multiplication etc en surchargeant des opérateurs mathématiques +, *, etc\n",
    "   \n",
    "\n",
    "  - Définir la classe des nombres complexes\n",
    "\n",
    "  - Définir la classe des nombres rationnels"
   ]
  },
  {
   "cell_type": "code",
   "execution_count": 36,
   "metadata": {},
   "outputs": [],
   "source": [
    "class Vecteur:\n",
    "    \n",
    "    def __init__(self,coeff=[]):\n"
   ]
  },
  {
   "cell_type": "code",
   "execution_count": 22,
   "metadata": {},
   "outputs": [
    {
     "name": "stdout",
     "output_type": "stream",
     "text": [
      "3+2x^2\n",
      "6+4x^2\n"
     ]
    }
   ],
   "source": [
    "v = Vecteur([3,0,2])\n",
    "print(v)\n",
    "print(v+v)"
   ]
  },
  {
   "cell_type": "code",
   "execution_count": 23,
   "metadata": {},
   "outputs": [
    {
     "data": {
      "text/plain": [
       "{'coeffs': {0: 3, 2: 2}}"
      ]
     },
     "execution_count": 23,
     "metadata": {},
     "output_type": "execute_result"
    }
   ],
   "source": [
    "v.__dict__"
   ]
  },
  {
   "cell_type": "code",
   "execution_count": 24,
   "metadata": {},
   "outputs": [
    {
     "data": {
      "text/plain": [
       "0"
      ]
     },
     "execution_count": 24,
     "metadata": {},
     "output_type": "execute_result"
    }
   ],
   "source": [
    "v[3]"
   ]
  },
  {
   "cell_type": "code",
   "execution_count": 25,
   "metadata": {},
   "outputs": [
    {
     "data": {
      "text/plain": [
       "{0: 3, 2: 2}"
      ]
     },
     "execution_count": 25,
     "metadata": {},
     "output_type": "execute_result"
    }
   ],
   "source": [
    "v[7] = 0\n",
    "v.coeffs"
   ]
  },
  {
   "cell_type": "code",
   "execution_count": 26,
   "metadata": {},
   "outputs": [
    {
     "data": {
      "text/plain": [
       "6+4x^2"
      ]
     },
     "execution_count": 26,
     "metadata": {},
     "output_type": "execute_result"
    }
   ],
   "source": [
    "v+v"
   ]
  },
  {
   "cell_type": "code",
   "execution_count": 27,
   "metadata": {},
   "outputs": [
    {
     "data": {
      "text/plain": [
       "6+4x^2"
      ]
     },
     "execution_count": 27,
     "metadata": {},
     "output_type": "execute_result"
    }
   ],
   "source": [
    "2*v"
   ]
  },
  {
   "cell_type": "code",
   "execution_count": 3,
   "metadata": {},
   "outputs": [
    {
     "name": "stdout",
     "output_type": "stream",
     "text": [
      "5.5 + -3i\n",
      "7.5 + -9.0i\n",
      "0.5 + 3.0i\n"
     ]
    }
   ],
   "source": [
    "c1 = Complexe(2.5,-3)\n",
    "c2 = Complexe(3,0)\n",
    "print(c1 + c2)\n",
    "print(c1*c2)\n",
    "print(c2-c1)"
   ]
  },
  {
   "cell_type": "code",
   "execution_count": 4,
   "metadata": {},
   "outputs": [
    {
     "data": {
      "text/plain": [
       "-3"
      ]
     },
     "execution_count": 4,
     "metadata": {},
     "output_type": "execute_result"
    }
   ],
   "source": [
    "c1.im_part()"
   ]
  },
  {
   "cell_type": "code",
   "execution_count": 18,
   "metadata": {},
   "outputs": [
    {
     "data": {
      "text/plain": [
       "(-1+0j)"
      ]
     },
     "execution_count": 18,
     "metadata": {},
     "output_type": "execute_result"
    }
   ],
   "source": [
    "(1+2j)+(-2-2j) "
   ]
  },
  {
   "attachments": {},
   "cell_type": "markdown",
   "metadata": {
    "slideshow": {
     "slide_type": "slide"
    }
   },
   "source": [
    "## Héritage\n",
    "\n",
    "Une caractéristique essentielle de la notion d'objet est de pouvoir définir des objets de plus en plus spécifiques, qui reprennent\n",
    "ce qui leur est commun avec des objets plus généraux, en spécifiant juste leur différence. \n",
    "\n",
    "Prenons l'exemple classique de la représentation d'un rectangle, que l'on peut spécifier en carré.\n",
    "Le lien d'héritage en python se définit de façon classique, par surcharge des méthodes. \n"
   ]
  },
  {
   "cell_type": "code",
   "execution_count": 29,
   "metadata": {
    "slideshow": {
     "slide_type": "fragment"
    }
   },
   "outputs": [],
   "source": [
    "class Rectangle: \n",
    "    def __init__(self,largeur,longueur):\n",
    "        self.large = largeur\n",
    "        self.long = longueur        \n",
    "    \n",
    "    def aire(self):\n",
    "        return self.large*self.long\n",
    "    \n",
    "    def get_largeur(self):\n",
    "        return self.large\n",
    "    \n",
    "    def get_longueur(self):\n",
    "        return self.long\n",
    "    \n",
    "    def __repr__(self):\n",
    "        return str(self.long)+\"x\"+str(self.large)"
   ]
  },
  {
   "cell_type": "code",
   "execution_count": 31,
   "metadata": {
    "slideshow": {
     "slide_type": "subslide"
    }
   },
   "outputs": [
    {
     "name": "stdout",
     "output_type": "stream",
     "text": [
      "30x10\n",
      "10x10\n",
      "10\n"
     ]
    }
   ],
   "source": [
    "class Carre(Rectangle):\n",
    "    def __init__(self,cote):\n",
    "        Rectangle.__init__(self,cote,cote)\n",
    "        self.blabla = 0\n",
    "        \n",
    "    def get_cote(self):\n",
    "        return self.get_longueur()\n",
    "    \n",
    "r = Rectangle(10,30)\n",
    "c = Carre(10)\n",
    "print(r)\n",
    "print(c)\n",
    "print(c.get_cote())"
   ]
  },
  {
   "attachments": {},
   "cell_type": "markdown",
   "metadata": {
    "slideshow": {
     "slide_type": "fragment"
    }
   },
   "source": [
    "Le type Carre **hérite** de rectangle, et donc toutes les méthodes de Rectangle sont aussi des méthodes de Carre, sauf celles\n",
    "que l'on redéfinit explicitement. On peut quand même appeler les méthodes de la super-classe dans la sous-classe (cf init dans l'exemple)"
   ]
  },
  {
   "attachments": {},
   "cell_type": "markdown",
   "metadata": {
    "slideshow": {
     "slide_type": "slide"
    }
   },
   "source": [
    "Résumé\n",
    "----------\n",
    "\n",
    "les concepts à retenir :\n",
    "\n",
    "   * classe\n",
    "   * objet, instance\n",
    "   * attribut\n",
    "   * méthode\n",
    "   * héritage\n",
    "   * composition\n",
    "   * surcharge\n"
   ]
  },
  {
   "attachments": {},
   "cell_type": "markdown",
   "metadata": {
    "slideshow": {
     "slide_type": "slide"
    }
   },
   "source": [
    "## Retour sur la gestion de la mémoire et des références\n",
    "\n",
    "On a déjà mentionné que les variables de type structurées sont des références (pointeurs). \n",
    "Il faut donc être très prudent avec les affectations de ces variables, et cela concerne bien évidemment \n",
    "les objets et les attributs des objets."
   ]
  },
  {
   "cell_type": "code",
   "execution_count": 22,
   "metadata": {
    "slideshow": {
     "slide_type": "fragment"
    }
   },
   "outputs": [
    {
     "name": "stdout",
     "output_type": "stream",
     "text": [
      "[-1, 2, 3] [-1, 2, 3] [-1, 2, 3]\n"
     ]
    }
   ],
   "source": [
    "l = [1,2,3]\n",
    "a = l \n",
    "b = l\n",
    "a[0] = -1\n",
    "print(a, b, l)"
   ]
  },
  {
   "cell_type": "code",
   "execution_count": 23,
   "metadata": {
    "slideshow": {
     "slide_type": "fragment"
    }
   },
   "outputs": [
    {
     "data": {
      "text/plain": [
       "True"
      ]
     },
     "execution_count": 23,
     "metadata": {},
     "output_type": "execute_result"
    }
   ],
   "source": [
    "a is b"
   ]
  },
  {
   "cell_type": "code",
   "execution_count": 24,
   "metadata": {
    "slideshow": {
     "slide_type": "subslide"
    }
   },
   "outputs": [
    {
     "name": "stdout",
     "output_type": "stream",
     "text": [
      "False\n",
      "True\n"
     ]
    },
    {
     "data": {
      "text/plain": [
       "True"
      ]
     },
     "execution_count": 24,
     "metadata": {},
     "output_type": "execute_result"
    }
   ],
   "source": [
    "l = [1,2]\n",
    "\n",
    "class Test:\n",
    "    def __init__(self,data):\n",
    "        self.data = data\n",
    "\n",
    "    def __eq__(self,other):\n",
    "        return self.data==other.data\n",
    "        \n",
    "a = Test(l)\n",
    "b = Test(l)\n",
    "print(a is b)\n",
    "print(a.data is b.data)\n",
    "a == b"
   ]
  },
  {
   "cell_type": "code",
   "execution_count": 25,
   "metadata": {},
   "outputs": [
    {
     "name": "stdout",
     "output_type": "stream",
     "text": [
      "[1, 2, 1] [1, 2, 1]\n"
     ]
    }
   ],
   "source": [
    "a.data.append(1)\n",
    "print(a.data,b.data)"
   ]
  },
  {
   "cell_type": "code",
   "execution_count": 26,
   "metadata": {
    "slideshow": {
     "slide_type": "fragment"
    }
   },
   "outputs": [
    {
     "data": {
      "text/plain": [
       "True"
      ]
     },
     "execution_count": 26,
     "metadata": {},
     "output_type": "execute_result"
    }
   ],
   "source": [
    "b = Test(3)\n",
    "c = b\n",
    "c is b "
   ]
  },
  {
   "attachments": {},
   "cell_type": "markdown",
   "metadata": {
    "slideshow": {
     "slide_type": "subslide"
    }
   },
   "source": [
    "Comment faire pour avoir des objets distincts ? Il faut faire des \"copies\" : "
   ]
  },
  {
   "cell_type": "code",
   "execution_count": 27,
   "metadata": {
    "slideshow": {
     "slide_type": "fragment"
    }
   },
   "outputs": [
    {
     "data": {
      "text/plain": [
       "False"
      ]
     },
     "execution_count": 27,
     "metadata": {},
     "output_type": "execute_result"
    }
   ],
   "source": [
    "import copy\n",
    "c = copy.copy(b)\n",
    "c is b"
   ]
  },
  {
   "attachments": {},
   "cell_type": "markdown",
   "metadata": {
    "slideshow": {
     "slide_type": "fragment"
    }
   },
   "source": [
    "Mais cette copie est \"superficielle\", elle ne fait que recopier les attributs. Si l'attribut\n",
    "est lui-même un pointeur sur un objet structuré, il n'est pas distinct : "
   ]
  },
  {
   "cell_type": "code",
   "execution_count": 28,
   "metadata": {
    "slideshow": {
     "slide_type": "fragment"
    }
   },
   "outputs": [
    {
     "data": {
      "text/plain": [
       "(False, True)"
      ]
     },
     "execution_count": 28,
     "metadata": {},
     "output_type": "execute_result"
    }
   ],
   "source": [
    "c = copy.copy(a)\n",
    "c is a, c.data is a.data"
   ]
  },
  {
   "attachments": {},
   "cell_type": "markdown",
   "metadata": {
    "slideshow": {
     "slide_type": "subslide"
    }
   },
   "source": [
    "Il faut alors utiliser une \"copie profonde\" : "
   ]
  },
  {
   "cell_type": "code",
   "execution_count": 29,
   "metadata": {
    "slideshow": {
     "slide_type": "fragment"
    }
   },
   "outputs": [
    {
     "data": {
      "text/plain": [
       "(False, False)"
      ]
     },
     "execution_count": 29,
     "metadata": {},
     "output_type": "execute_result"
    }
   ],
   "source": [
    "c = copy.deepcopy(a)\n",
    "c is a, c.data is a.data"
   ]
  },
  {
   "attachments": {},
   "cell_type": "markdown",
   "metadata": {
    "slideshow": {
     "slide_type": "fragment"
    }
   },
   "source": [
    "Inconvénients : \n",
    "  \n",
    "  - plus lent \n",
    "  - évidemment, duplique la place en mémoire"
   ]
  },
  {
   "attachments": {},
   "cell_type": "markdown",
   "metadata": {
    "slideshow": {
     "slide_type": "subslide"
    }
   },
   "source": [
    "Comment sont gérées ces références, et la mémoire occupée ?\n",
    "\n",
    "  - allocation dynamique de la mémoire nécessaire \n",
    "  - comptage des pointeurs actifs sur une zone mémoire allouée\n",
    "  - \"libération\" quand le comptage revient à 0 \n",
    "  - le \"garbage collector\", comme en Java, fait le ménage périodiquement. \n",
    "\n",
    "Pièges à éviter: \n",
    "\n",
    "   - références circulaires\n",
    "   - l'allocation de chaines peut facilement manger beaucoup de mémoire"
   ]
  },
  {
   "cell_type": "code",
   "execution_count": 41,
   "metadata": {
    "slideshow": {
     "slide_type": "subslide"
    }
   },
   "outputs": [],
   "source": [
    "# exemple, avec accumulation de sous-chaines dans une chaine résultat\n",
    "a = \"abc\" # 1 allocation\n",
    "a = a + \"def\" # + 2 allocations\n",
    "a = a + \"ghi\" # + 3 allocations ...\n",
    "#... o(n^2) allocations\n",
    "\n",
    "#mieux : o(n) allocations\n",
    "a = \"\".join([\"abc\",\"def\",\"ghi\"])"
   ]
  },
  {
   "attachments": {},
   "cell_type": "markdown",
   "metadata": {
    "slideshow": {
     "slide_type": "slide"
    }
   },
   "source": [
    "Exercices\n",
    "----------\n",
    "\n",
    "   * retour sur le TD sur les compteurs: comment aurait-on pu définir cette classe ?\n",
    "   (définir les méthodes suivantes: addition de compteurs, mise à jour d'un compteur par un autre)\n",
    "   * définir une classe polygone, représenté comme une liste de points en 2D. définir la méthode périmètre et définir la sous-classe rectangle\n",
    "   * faire un type tas : arbre binaire par couches, représenté dans une liste. "
   ]
  },
  {
   "cell_type": "code",
   "execution_count": 48,
   "metadata": {},
   "outputs": [
    {
     "name": "stdout",
     "output_type": "stream",
     "text": [
      "{'répétés:': 1, 'sens': 1, 'que': 3, 'une': 1, 'mots': 1, 'fatiguez': 1, 'je': 1, 'vous': 3, 'deuxième': 1, 'des': 1, 'phrase,': 1, 'faut': 1, 'il': 1, 'avec': 1}\n"
     ]
    }
   ],
   "source": [
    "\"\"\"Compteur([0,1,1,2,3])\n",
    "\n",
    "-> retourne quelque chose comme ça {0:1,1:2,2:1,3:1}\n",
    "\n",
    "Compteur([0,1,1]) + Compteur([1,2,4,4]) -> ....\n",
    "\"\"\"\n",
    "\n",
    "class Compteur:\n",
    "    \n",
    "    \n",
    "        \n",
    "        \n",
    "c1 = Compteur(\"je sens que vous fatiguez\".split())\n",
    "c2 = Compteur(\"il faut une deuxième phrase, avec des mots répétés: que vous que vous\".split())\n",
    "\n",
    "\n",
    "print(c1+c2)"
   ]
  }
 ],
 "metadata": {
  "celltoolbar": "Slideshow",
  "kernelspec": {
   "display_name": "Python 3",
   "language": "python",
   "name": "python3"
  },
  "language_info": {
   "codemirror_mode": {
    "name": "ipython",
    "version": 3
   },
   "file_extension": ".py",
   "mimetype": "text/x-python",
   "name": "python",
   "nbconvert_exporter": "python",
   "pygments_lexer": "ipython3",
   "version": "3.12.2"
  }
 },
 "nbformat": 4,
 "nbformat_minor": 4
}
