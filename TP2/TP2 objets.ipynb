{
 "cells": [
  {
   "cell_type": "markdown",
   "metadata": {},
   "source": [
    "# Programmation objet : les graphes\n",
    "\n",
    "## Echauffement\n",
    "\n",
    "Pour commencer, programmez et testez une classe Stack avec un comportement de pile\n",
    "(dernier entré - premier sorti), en utilisant une liste pour stocker les éléments. \n",
    "Elle devra comporter au moins un constructeur (`def __init__(self):` en python), une méthode `push` pour ajouter un élément, `pop` pour retirer le dernier élement, empty pour vérifier si la liste est vide, `size` pour le nombre d'éléments. \n",
    "\n",
    "(indice: les listes ont déjà une méthode pop, et sont optimisées pour ajouter des éléments à la fin de la liste). \n",
    "\n",
    "## Graphes\n",
    "\n",
    "Définissez maintenant une classe Graph qui implémente un graphe, dirigé ou non. \n",
    "Il devra inclure au moins les méthodes suivantes~:\n",
    "\n",
    "  - depth_first: qui itère sur les noeuds en profondeur d'abord, à partir d'un noeud donné\n",
    "  - comp_con: qui donne les composantes connexes (à vous de décider du type renvoyé) \n",
    "  - path: qui donne le plus court chemin d'un noeud à un autre (en nombre d'arcs/arête), par exemple avec l'algorithme de Dijsktra.\n",
    "  \n",
    "  ```python\n",
    "  def dijkstra(self,start):\n",
    "      table = {start:0}\n",
    "      paths = {start:None}\n",
    "      n = len(self)\n",
    "      done = set()\n",
    "      cpt = 1\n",
    "      while cpt <= n:\n",
    "          cpt = cpt + 1\n",
    "          all = list(table.items())\n",
    "          current, val   = all[argmin(all,lambda a_b: a_b[1],filter=lambda x : x[0] in done)]\n",
    "          done.add(current)\n",
    "          for y in self.origin(current):\n",
    "              new_path = val + 1\n",
    "              if table.get(y,float(\"inf\"))>new_path:\n",
    "                  table[y] = new_path\n",
    "                  paths[y] = current\n",
    "      return table,paths\n",
    "  ```\n",
    " \n",
    "Vous pouvez partir sur une représentation de graphes avec des listes d'adjacences pour chaque sommet. \n",
    "Vous prévoierez bien sûr les fonctions de base pour accéder aux noeuds et aux arêtes du graphes, et pour créer/modifier\n",
    "le graphe. \n",
    "Prévoyez aussi une méthode pour afficher le contenu du graphe de façon pratique, au moins pour débugger.\n",
    " \n",
    "# Graphes pondérés\n",
    "\n",
    "On veut maintenant gérer le fait que les arêtes ont un poids, représentant des distances entre les sommets. \n",
    "Modifier votre classe pour prévoir ce cas là. \n",
    "\n",
    "# Application\n",
    "\n",
    "Récupérer le fichier [stormofswords](https://www.irit.fr/~Philippe.Muller/Cours/M1_python/stormofswords.csv), qui décrit un graphe pondéré listant des relations entre personnages d'une série de romans bien connue. Plus le poids est élevé, plus deux personnages sont \"proches\" dans l'histoire. \n",
    "\n",
    "Utilisez votre classe pour trouver la ou les composantes connexes du graphe, et identifiez les personnages centraux dans chaque composante selon les deux critères suivants: \n",
    "\n",
    "  1. personnage avec le plus de liens\n",
    "  2. personnage le plus \"près\" des autres personnages en moyenne (en utilisant les plus courts chemins, avec ou sans les poids). \n"
   ]
  },
  {
   "cell_type": "markdown",
   "metadata": {},
   "source": [
    "## Bonus : Implémentation plus efficace de Dijkstra\n",
    "\n",
    "La version donnée de l'implémentation n'est pas la plus efficace car on parcours toutes les edges (arêtes) à chaque itération pour trouver celle avec la distance la plus faible. On peut faire mieux en utilisant une heap (un tas en français) (on peut utiliser `heapq` en python et ses fonctions  `heappush` et `heappop` )"
   ]
  },
  {
   "cell_type": "markdown",
   "metadata": {
    "collapsed": true
   },
   "source": [
    "## Guide pratique de l'affichage avec format\n",
    "\n",
    "Comme en C avec printf, on peut utiliser un patron de formatage, en remplaçant les\n",
    "symboles %d, %f, %s (entre autres) par des variables de type entier, float, ou chaines. \n",
    "Par défaut, %s accepte tout type qui peut s'afficher (pour lequel une méthode de représentation est définie). "
   ]
  },
  {
   "cell_type": "code",
   "execution_count": 2,
   "metadata": {},
   "outputs": [
    {
     "name": "stdout",
     "output_type": "stream",
     "text": [
      "2.5 est tout ce qu'on veut\n"
     ]
    }
   ],
   "source": [
    "a = 2.5\n",
    "print(\"%s est tout ce qu'on veut\"%a)"
   ]
  },
  {
   "cell_type": "code",
   "execution_count": 3,
   "metadata": {},
   "outputs": [
    {
     "name": "stdout",
     "output_type": "stream",
     "text": [
      "2.5 = un flottant?\n"
     ]
    }
   ],
   "source": [
    "b = \"un flottant?\"\n",
    "print(\"%s = %s\"%(a,b))"
   ]
  },
  {
   "cell_type": "code",
   "execution_count": 4,
   "metadata": {},
   "outputs": [
    {
     "name": "stdout",
     "output_type": "stream",
     "text": [
      "2 ~= 2.000100\n"
     ]
    }
   ],
   "source": [
    "print (\"%d ~= %f\"%(2,2.0001))"
   ]
  },
  {
   "cell_type": "markdown",
   "metadata": {
    "collapsed": true
   },
   "source": [
    "On peut aussi directement mettre des variables avec une chaine spéciale f\"...\""
   ]
  },
  {
   "cell_type": "code",
   "execution_count": 5,
   "metadata": {},
   "outputs": [
    {
     "name": "stdout",
     "output_type": "stream",
     "text": [
      "2.5 = un flottant? ?\n"
     ]
    }
   ],
   "source": [
    "print(f\"{a} = {b} ?\")"
   ]
  }
 ],
 "metadata": {
  "kernelspec": {
   "display_name": "visual",
   "language": "python",
   "name": "visual"
  },
  "language_info": {
   "codemirror_mode": {
    "name": "ipython",
    "version": 3
   },
   "file_extension": ".py",
   "mimetype": "text/x-python",
   "name": "python",
   "nbconvert_exporter": "python",
   "pygments_lexer": "ipython3",
   "version": "3.8.2"
  }
 },
 "nbformat": 4,
 "nbformat_minor": 1
}
